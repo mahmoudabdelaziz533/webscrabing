{
  "nbformat": 4,
  "nbformat_minor": 0,
  "metadata": {
    "colab": {
      "provenance": []
    },
    "kernelspec": {
      "name": "python3",
      "display_name": "Python 3"
    },
    "language_info": {
      "name": "python"
    }
  },
  "cells": [
    {
      "cell_type": "code",
      "execution_count": 20,
      "metadata": {
        "id": "BedtOLbWLCif"
      },
      "outputs": [],
      "source": [
        "import requests\n",
        "from bs4 import BeautifulSoup\n",
        "import json \n",
        "import csv\n",
        "import numpy as np"
      ]
    },
    {
      "cell_type": "code",
      "source": [
        "class scrapper :\n",
        "  result = list()\n",
        "  def fetch(self,url):\n",
        "    print(f\"get request to url :{url}\")\n",
        "    responce = requests.get(url)\n",
        "    return responce\n",
        "\n",
        "  def parse(self, html):\n",
        "    content = BeautifulSoup(html, 'lxml') \n",
        "\n",
        "    titles = [title.text.strip() for  title in content.find_all('h2',{\"class\":\"propertyCard-title\"})]\n",
        "    addresses = [address.text.strip() for  address in content.find_all(\"address\",{\"class\":\"propertyCard-address\"})]\n",
        "    descriptions  = [descripe.text.strip() for descripe in content.find_all(\"div\",{\"class\":\"propertyCard-description\"})]\n",
        "    images = [image[\"src\"] for image in content.find_all(\"img\",{\"itemprop\":\"image\"})]\n",
        "    sellers = [seller.text.split(\"by\")[1] for seller in content.find_all(\"span\",{\"class\":\"propertyCard-branchSummary-branchName\"})]\n",
        "    dates = [date.text.split(\"on\")[-1] for date in content.find_all(\"span\",{\"class\":\"propertyCard-branchSummary-addedOrReduced\"})]\n",
        "\n",
        "    for idx in range(len(titles)):\n",
        "       self.result.append({\n",
        "          \"titles\":titles[idx],\n",
        "          \"addresses\":addresses[idx],\n",
        "          \"descriptions\":descriptions[idx],\n",
        "          \"sellers\":sellers[idx],\n",
        "          \"dates\":dates[idx],\n",
        "          \"images\":images[idx],\n",
        "       })\n",
        "\n",
        "  def to_csv(self):\n",
        "    with open(\"result.csv\",\"w\") as csvfile:\n",
        "      writer = csv.DictWriter(csvfile, fieldnames= self.result[0].keys() )\n",
        "      writer.writeheader()\n",
        "      for row in self.result:\n",
        "        writer.writerow(row)\n",
        "      print(\"stored\")  \n",
        "  \n",
        "  def run(self):\n",
        "    for page in range(5):\n",
        "      i = page * 24\n",
        "      url = \"https://www.rightmove.co.uk/property-for-sale/find.html?locationIdentifier=REGION%5E93917&index=\" +str(i) +  \"&propertyTypes=&mustHave=&dontShow=&furnishTypes=&keywords=\"\n",
        "      responce = self.fetch(url)\n",
        "      html = responce.text\n",
        "      self.parse(html)\n",
        "    self.to_csv()   \n",
        "    \n",
        "if __name__ ==\"__main__\":\n",
        "  scrape = scrapper()\n",
        "  scrape.run()         "
      ],
      "metadata": {
        "colab": {
          "base_uri": "https://localhost:8080/"
        },
        "id": "3XWsykiRL6mH",
        "outputId": "7a177992-4944-4b2e-a9ac-fd9fb2be2cfd"
      },
      "execution_count": 64,
      "outputs": [
        {
          "output_type": "stream",
          "name": "stdout",
          "text": [
            "get request to url :https://www.rightmove.co.uk/property-for-sale/find.html?locationIdentifier=REGION%5E93917&index=0&propertyTypes=&mustHave=&dontShow=&furnishTypes=&keywords=\n",
            "get request to url :https://www.rightmove.co.uk/property-for-sale/find.html?locationIdentifier=REGION%5E93917&index=24&propertyTypes=&mustHave=&dontShow=&furnishTypes=&keywords=\n",
            "get request to url :https://www.rightmove.co.uk/property-for-sale/find.html?locationIdentifier=REGION%5E93917&index=48&propertyTypes=&mustHave=&dontShow=&furnishTypes=&keywords=\n",
            "get request to url :https://www.rightmove.co.uk/property-for-sale/find.html?locationIdentifier=REGION%5E93917&index=72&propertyTypes=&mustHave=&dontShow=&furnishTypes=&keywords=\n",
            "get request to url :https://www.rightmove.co.uk/property-for-sale/find.html?locationIdentifier=REGION%5E93917&index=96&propertyTypes=&mustHave=&dontShow=&furnishTypes=&keywords=\n",
            "stored\n"
          ]
        }
      ]
    },
    {
      "cell_type": "code",
      "source": [
        "import pandas as pd\n",
        "df = pd.read_csv(\"result.csv\")\n",
        "df.head()"
      ],
      "metadata": {
        "id": "bDqBGWESbl1E",
        "outputId": "91cb34a9-9027-4cfb-c53f-0abae4498d8a",
        "colab": {
          "base_uri": "https://localhost:8080/",
          "height": 337
        }
      },
      "execution_count": 65,
      "outputs": [
        {
          "output_type": "execute_result",
          "data": {
            "text/plain": [
              "                         titles                                    addresses  \\\n",
              "0  2 bedroom apartment for sale                    Old Brompton Road, London   \n",
              "1  5 bedroom apartment for sale                 One Hyde Park, Knightsbridge   \n",
              "2     12 bedroom house for sale  Mayfair Freehold House, Park Lane Area, W1K   \n",
              "3      7 bedroom house for sale                 Lygon Place, Belgravia, SW1W   \n",
              "4      6 bedroom house for sale                  Pitt Street, Kensington, W8   \n",
              "\n",
              "                                        descriptions  \\\n",
              "0  This is an exquisite two bedroom apartment in ...   \n",
              "1  An exceptional exclusive five bedroom apartmen...   \n",
              "2  This stunning 12 bedroom (including 3 staff be...   \n",
              "3  Ref. LOB0798 - Set behind a gated Belgravia dr...   \n",
              "4  Ref. LOB0625 - This striking and unique house ...   \n",
              "\n",
              "                                      sellers        dates  \\\n",
              "0                 Barnard Marcus, Earls Court   24/02/2023   \n",
              "1                        The Cloister, London   22/12/2022   \n",
              "2   Luxury Living Homes International, London   31/12/2022   \n",
              "3     Beauchamp Estates Ltd, Mayfair - Resale   21/11/2022   \n",
              "4     Beauchamp Estates Ltd, Mayfair - Resale   21/02/2023   \n",
              "\n",
              "                                              images  \n",
              "0  https://media.rightmove.co.uk:443/dir/crop/10:...  \n",
              "1  https://media.rightmove.co.uk:443/dir/crop/10:...  \n",
              "2                                                NaN  \n",
              "3  https://media.rightmove.co.uk:443/dir/crop/10:...  \n",
              "4  https://media.rightmove.co.uk:443/dir/crop/10:...  "
            ],
            "text/html": [
              "\n",
              "  <div id=\"df-0e6ca505-b98a-4638-881c-c8268db7d88b\">\n",
              "    <div class=\"colab-df-container\">\n",
              "      <div>\n",
              "<style scoped>\n",
              "    .dataframe tbody tr th:only-of-type {\n",
              "        vertical-align: middle;\n",
              "    }\n",
              "\n",
              "    .dataframe tbody tr th {\n",
              "        vertical-align: top;\n",
              "    }\n",
              "\n",
              "    .dataframe thead th {\n",
              "        text-align: right;\n",
              "    }\n",
              "</style>\n",
              "<table border=\"1\" class=\"dataframe\">\n",
              "  <thead>\n",
              "    <tr style=\"text-align: right;\">\n",
              "      <th></th>\n",
              "      <th>titles</th>\n",
              "      <th>addresses</th>\n",
              "      <th>descriptions</th>\n",
              "      <th>sellers</th>\n",
              "      <th>dates</th>\n",
              "      <th>images</th>\n",
              "    </tr>\n",
              "  </thead>\n",
              "  <tbody>\n",
              "    <tr>\n",
              "      <th>0</th>\n",
              "      <td>2 bedroom apartment for sale</td>\n",
              "      <td>Old Brompton Road, London</td>\n",
              "      <td>This is an exquisite two bedroom apartment in ...</td>\n",
              "      <td>Barnard Marcus, Earls Court</td>\n",
              "      <td>24/02/2023</td>\n",
              "      <td>https://media.rightmove.co.uk:443/dir/crop/10:...</td>\n",
              "    </tr>\n",
              "    <tr>\n",
              "      <th>1</th>\n",
              "      <td>5 bedroom apartment for sale</td>\n",
              "      <td>One Hyde Park, Knightsbridge</td>\n",
              "      <td>An exceptional exclusive five bedroom apartmen...</td>\n",
              "      <td>The Cloister, London</td>\n",
              "      <td>22/12/2022</td>\n",
              "      <td>https://media.rightmove.co.uk:443/dir/crop/10:...</td>\n",
              "    </tr>\n",
              "    <tr>\n",
              "      <th>2</th>\n",
              "      <td>12 bedroom house for sale</td>\n",
              "      <td>Mayfair Freehold House, Park Lane Area, W1K</td>\n",
              "      <td>This stunning 12 bedroom (including 3 staff be...</td>\n",
              "      <td>Luxury Living Homes International, London</td>\n",
              "      <td>31/12/2022</td>\n",
              "      <td>NaN</td>\n",
              "    </tr>\n",
              "    <tr>\n",
              "      <th>3</th>\n",
              "      <td>7 bedroom house for sale</td>\n",
              "      <td>Lygon Place, Belgravia, SW1W</td>\n",
              "      <td>Ref. LOB0798 - Set behind a gated Belgravia dr...</td>\n",
              "      <td>Beauchamp Estates Ltd, Mayfair - Resale</td>\n",
              "      <td>21/11/2022</td>\n",
              "      <td>https://media.rightmove.co.uk:443/dir/crop/10:...</td>\n",
              "    </tr>\n",
              "    <tr>\n",
              "      <th>4</th>\n",
              "      <td>6 bedroom house for sale</td>\n",
              "      <td>Pitt Street, Kensington, W8</td>\n",
              "      <td>Ref. LOB0625 - This striking and unique house ...</td>\n",
              "      <td>Beauchamp Estates Ltd, Mayfair - Resale</td>\n",
              "      <td>21/02/2023</td>\n",
              "      <td>https://media.rightmove.co.uk:443/dir/crop/10:...</td>\n",
              "    </tr>\n",
              "  </tbody>\n",
              "</table>\n",
              "</div>\n",
              "      <button class=\"colab-df-convert\" onclick=\"convertToInteractive('df-0e6ca505-b98a-4638-881c-c8268db7d88b')\"\n",
              "              title=\"Convert this dataframe to an interactive table.\"\n",
              "              style=\"display:none;\">\n",
              "        \n",
              "  <svg xmlns=\"http://www.w3.org/2000/svg\" height=\"24px\"viewBox=\"0 0 24 24\"\n",
              "       width=\"24px\">\n",
              "    <path d=\"M0 0h24v24H0V0z\" fill=\"none\"/>\n",
              "    <path d=\"M18.56 5.44l.94 2.06.94-2.06 2.06-.94-2.06-.94-.94-2.06-.94 2.06-2.06.94zm-11 1L8.5 8.5l.94-2.06 2.06-.94-2.06-.94L8.5 2.5l-.94 2.06-2.06.94zm10 10l.94 2.06.94-2.06 2.06-.94-2.06-.94-.94-2.06-.94 2.06-2.06.94z\"/><path d=\"M17.41 7.96l-1.37-1.37c-.4-.4-.92-.59-1.43-.59-.52 0-1.04.2-1.43.59L10.3 9.45l-7.72 7.72c-.78.78-.78 2.05 0 2.83L4 21.41c.39.39.9.59 1.41.59.51 0 1.02-.2 1.41-.59l7.78-7.78 2.81-2.81c.8-.78.8-2.07 0-2.86zM5.41 20L4 18.59l7.72-7.72 1.47 1.35L5.41 20z\"/>\n",
              "  </svg>\n",
              "      </button>\n",
              "      \n",
              "  <style>\n",
              "    .colab-df-container {\n",
              "      display:flex;\n",
              "      flex-wrap:wrap;\n",
              "      gap: 12px;\n",
              "    }\n",
              "\n",
              "    .colab-df-convert {\n",
              "      background-color: #E8F0FE;\n",
              "      border: none;\n",
              "      border-radius: 50%;\n",
              "      cursor: pointer;\n",
              "      display: none;\n",
              "      fill: #1967D2;\n",
              "      height: 32px;\n",
              "      padding: 0 0 0 0;\n",
              "      width: 32px;\n",
              "    }\n",
              "\n",
              "    .colab-df-convert:hover {\n",
              "      background-color: #E2EBFA;\n",
              "      box-shadow: 0px 1px 2px rgba(60, 64, 67, 0.3), 0px 1px 3px 1px rgba(60, 64, 67, 0.15);\n",
              "      fill: #174EA6;\n",
              "    }\n",
              "\n",
              "    [theme=dark] .colab-df-convert {\n",
              "      background-color: #3B4455;\n",
              "      fill: #D2E3FC;\n",
              "    }\n",
              "\n",
              "    [theme=dark] .colab-df-convert:hover {\n",
              "      background-color: #434B5C;\n",
              "      box-shadow: 0px 1px 3px 1px rgba(0, 0, 0, 0.15);\n",
              "      filter: drop-shadow(0px 1px 2px rgba(0, 0, 0, 0.3));\n",
              "      fill: #FFFFFF;\n",
              "    }\n",
              "  </style>\n",
              "\n",
              "      <script>\n",
              "        const buttonEl =\n",
              "          document.querySelector('#df-0e6ca505-b98a-4638-881c-c8268db7d88b button.colab-df-convert');\n",
              "        buttonEl.style.display =\n",
              "          google.colab.kernel.accessAllowed ? 'block' : 'none';\n",
              "\n",
              "        async function convertToInteractive(key) {\n",
              "          const element = document.querySelector('#df-0e6ca505-b98a-4638-881c-c8268db7d88b');\n",
              "          const dataTable =\n",
              "            await google.colab.kernel.invokeFunction('convertToInteractive',\n",
              "                                                     [key], {});\n",
              "          if (!dataTable) return;\n",
              "\n",
              "          const docLinkHtml = 'Like what you see? Visit the ' +\n",
              "            '<a target=\"_blank\" href=https://colab.research.google.com/notebooks/data_table.ipynb>data table notebook</a>'\n",
              "            + ' to learn more about interactive tables.';\n",
              "          element.innerHTML = '';\n",
              "          dataTable['output_type'] = 'display_data';\n",
              "          await google.colab.output.renderOutput(dataTable, element);\n",
              "          const docLink = document.createElement('div');\n",
              "          docLink.innerHTML = docLinkHtml;\n",
              "          element.appendChild(docLink);\n",
              "        }\n",
              "      </script>\n",
              "    </div>\n",
              "  </div>\n",
              "  "
            ]
          },
          "metadata": {},
          "execution_count": 65
        }
      ]
    },
    {
      "cell_type": "code",
      "source": [],
      "metadata": {
        "id": "8D9H8vlIfHl_"
      },
      "execution_count": null,
      "outputs": []
    },
    {
      "cell_type": "markdown",
      "source": [
        "To just save an html file to read from it "
      ],
      "metadata": {
        "id": "j5lpEs5BdvJu"
      }
    },
    {
      "cell_type": "code",
      "source": [
        "'''responce   =requests.get(\"https://www.rightmove.co.uk/property-for-sale/find.html?locationIdentifier=REGION%5E93917&index=0&propertyTypes=&mustHave=&dontShow=&furnishTypes=&keywords=\")\n",
        "with open('res.html','w') as html_file:\n",
        "    html_file.write(responce.text) '''"
      ],
      "metadata": {
        "id": "-Di1viOmSNWk"
      },
      "execution_count": null,
      "outputs": []
    },
    {
      "cell_type": "markdown",
      "source": [
        "Then use The htmlfile to take date from"
      ],
      "metadata": {
        "id": "WCX1OYx3d2iQ"
      }
    },
    {
      "cell_type": "code",
      "source": [
        "'''html = ''\n",
        "with open('res.html','r') as html_file:\n",
        "      for line in html_file:\n",
        "         html += html_file.read()\n",
        "         self.parse(html)\n",
        "    self.to_csv()   '''"
      ],
      "metadata": {
        "id": "NV8eOwVrdsrb"
      },
      "execution_count": null,
      "outputs": []
    }
  ]
}